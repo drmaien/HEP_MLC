{
 "cells": [
  {
   "cell_type": "code",
   "execution_count": null,
   "id": "aa2d40df",
   "metadata": {},
   "outputs": [],
   "source": [
    "import pandas as pd\n",
    "\n",
    "# Load the dataset\n",
    "file_name = 'final_dataset.tsv'\n",
    "df = pd.read_csv(file_name, sep='\\t')\n",
    "\n",
    "# Print dataset info\n",
    "print(\"Dataset Information:\")\n",
    "df.info()\n",
    "\n",
    "# Count occurrences of 1 (valid) and 0 (invalid) for each label\n",
    "label_counts = {label: df[label].value_counts() for label in ['valid_BFB', 'valid_Uni', 'valid_STU', 'valid_Higgs']}\n",
    "\n",
    "# Create a DataFrame for better visualization\n",
    "label_summary = pd.DataFrame(label_counts).T\n",
    "label_summary.columns = ['Count_0 (Invalid)', 'Count_1 (Valid)']\n",
    "label_summary['Imbalance_Ratio'] = label_summary['Count_1 (Valid)'] / label_summary['Count_0 (Invalid)']\n",
    "\n",
    "# Print the summary\n",
    "print(\"Class Imbalance for Individual Labels:\")\n",
    "print(label_summary)"
   ]
  },
  {
   "cell_type": "code",
   "execution_count": null,
   "id": "423fe947",
   "metadata": {},
   "outputs": [],
   "source": [
    "# Define the target labels\n",
    "target_labels = ['valid_BFB', 'valid_Uni', 'valid_STU', 'valid_Higgs']\n",
    "\n",
    "# Add a column to represent the class combination (e.g., \"1_0_1_0\")\n",
    "df['Class_Combination'] = df[target_labels].astype(str).agg('_'.join, axis=1)\n",
    "\n",
    "# Group by class combinations and count occurrences\n",
    "class_counts = df['Class_Combination'].value_counts().reset_index()\n",
    "class_counts.columns = ['Class_Combination', 'Count']\n",
    "\n",
    "# Display the table of class combinations\n",
    "print(\"\\nClass Combinations and their Counts:\")\n",
    "print(class_counts)"
   ]
  }
 ],
 "metadata": {
  "kernelspec": {
   "display_name": "Python 3 (ipykernel)",
   "language": "python",
   "name": "python3"
  },
  "language_info": {
   "codemirror_mode": {
    "name": "ipython",
    "version": 3
   },
   "file_extension": ".py",
   "mimetype": "text/x-python",
   "name": "python",
   "nbconvert_exporter": "python",
   "pygments_lexer": "ipython3",
   "version": "3.10.12"
  }
 },
 "nbformat": 4,
 "nbformat_minor": 5
}
